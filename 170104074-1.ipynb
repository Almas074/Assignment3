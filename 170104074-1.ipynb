{
  "nbformat": 4,
  "nbformat_minor": 0,
  "metadata": {
    "colab": {
      "name": "170104074.ipynb",
      "provenance": [],
      "collapsed_sections": []
    },
    "kernelspec": {
      "name": "python3",
      "display_name": "Python 3"
    },
    "language_info": {
      "name": "python"
    },
    "accelerator": "GPU"
  },
  "cells": [
    {
      "cell_type": "markdown",
      "metadata": {
        "id": "qkvfgiyhMJIM"
      },
      "source": [
        "# CSE 4238 | Assignment 3\n",
        "---\n",
        "---"
      ]
    },
    {
      "cell_type": "markdown",
      "metadata": {
        "id": "oMEvxstq3oy2"
      },
      "source": [
        "# Sentiment Analysis for Tweets | Bi-LSTM | TensorFlow\n",
        "---\n",
        "---"
      ]
    },
    {
      "cell_type": "markdown",
      "metadata": {
        "id": "SDNE7pjCMPEY"
      },
      "source": [
        "## Prepare Dataset\n",
        "---\n",
        "Download the [dataset](https://drive.google.com/file/d/1hgfcQHIlfnnDTSUAA_3--m-YA7BelKl3/view)."
      ]
    },
    {
      "cell_type": "code",
      "metadata": {
        "id": "E_W1JqdvLpHI",
        "colab": {
          "base_uri": "https://localhost:8080/"
        },
        "outputId": "bcdf4e25-fe17-4c82-9e11-be7c8af13c7b"
      },
      "source": [
        "# The dataset => https://drive.google.com/file/d/1hgfcQHIlfnnDTSUAA_3--m-YA7BelKl3/view\n",
        "!gdown --id 1hgfcQHIlfnnDTSUAA_3--m-YA7BelKl3"
      ],
      "execution_count": null,
      "outputs": [
        {
          "output_type": "stream",
          "name": "stdout",
          "text": [
            "Downloading...\n",
            "From: https://drive.google.com/uc?id=1hgfcQHIlfnnDTSUAA_3--m-YA7BelKl3\n",
            "To: /content/Dataset 3.csv\n",
            "\r  0% 0.00/999k [00:00<?, ?B/s]\r100% 999k/999k [00:00<00:00, 64.1MB/s]\n"
          ]
        }
      ]
    },
    {
      "cell_type": "markdown",
      "metadata": {
        "id": "0UpWYZloNo2w"
      },
      "source": [
        "## Import Required Libraries\n",
        "---\n",
        "Importing libraries that will be required for the experiment."
      ]
    },
    {
      "cell_type": "code",
      "metadata": {
        "id": "C7RxCMuHNDlx"
      },
      "source": [
        "import numpy as np\n",
        "import pandas as pd\n",
        "import seaborn as sns\n",
        "import tensorflow as tf\n",
        "import matplotlib.pyplot as plt\n",
        "\n",
        "from keras.preprocessing.text import Tokenizer\n",
        "from keras.preprocessing.sequence import pad_sequences\n",
        "from keras.models import Sequential\n",
        "from keras import layers\n",
        "from keras import backend as K\n",
        "from keras.utils.vis_utils import plot_model\n",
        "\n",
        "from sklearn.metrics import accuracy_score\n",
        "from sklearn.metrics import precision_score\n",
        "from sklearn.metrics import recall_score\n",
        "from sklearn.metrics import f1_score\n",
        "from sklearn.metrics import confusion_matrix"
      ],
      "execution_count": null,
      "outputs": []
    },
    {
      "cell_type": "markdown",
      "metadata": {
        "id": "26yprpqqPTuQ"
      },
      "source": [
        "## Read the Original Data\n",
        "---\n",
        "Read the original data from the CSV file found"
      ]
    },
    {
      "cell_type": "code",
      "metadata": {
        "colab": {
          "base_uri": "https://localhost:8080/",
          "height": 417
        },
        "id": "Qy1qO3NsOYcp",
        "outputId": "dc5f0357-44b7-4ca1-a3df-a60fb9efe27c"
      },
      "source": [
        "data = pd.read_csv('/content/Dataset 3.csv', engine = 'python')\n",
        "\n",
        "data"
      ],
      "execution_count": null,
      "outputs": [
        {
          "output_type": "execute_result",
          "data": {
            "text/html": [
              "<div>\n",
              "<style scoped>\n",
              "    .dataframe tbody tr th:only-of-type {\n",
              "        vertical-align: middle;\n",
              "    }\n",
              "\n",
              "    .dataframe tbody tr th {\n",
              "        vertical-align: top;\n",
              "    }\n",
              "\n",
              "    .dataframe thead th {\n",
              "        text-align: right;\n",
              "    }\n",
              "</style>\n",
              "<table border=\"1\" class=\"dataframe\">\n",
              "  <thead>\n",
              "    <tr style=\"text-align: right;\">\n",
              "      <th></th>\n",
              "      <th>tweets</th>\n",
              "      <th>sentiment</th>\n",
              "    </tr>\n",
              "  </thead>\n",
              "  <tbody>\n",
              "    <tr>\n",
              "      <th>0</th>\n",
              "      <td>just had a real good moment. i missssssssss hi...</td>\n",
              "      <td>0</td>\n",
              "    </tr>\n",
              "    <tr>\n",
              "      <th>1</th>\n",
              "      <td>is reading manga  http://plurk.com/p/mzp1e</td>\n",
              "      <td>0</td>\n",
              "    </tr>\n",
              "    <tr>\n",
              "      <th>2</th>\n",
              "      <td>@comeagainjen http://twitpic.com/2y2lx - http:...</td>\n",
              "      <td>0</td>\n",
              "    </tr>\n",
              "    <tr>\n",
              "      <th>3</th>\n",
              "      <td>@lapcat Need to send 'em to my accountant tomo...</td>\n",
              "      <td>0</td>\n",
              "    </tr>\n",
              "    <tr>\n",
              "      <th>4</th>\n",
              "      <td>ADD ME ON MYSPACE!!!  myspace.com/LookThunder</td>\n",
              "      <td>0</td>\n",
              "    </tr>\n",
              "    <tr>\n",
              "      <th>...</th>\n",
              "      <td>...</td>\n",
              "      <td>...</td>\n",
              "    </tr>\n",
              "    <tr>\n",
              "      <th>10309</th>\n",
              "      <td>No Depression by G Herbo is my mood from now o...</td>\n",
              "      <td>1</td>\n",
              "    </tr>\n",
              "    <tr>\n",
              "      <th>10310</th>\n",
              "      <td>What do you do when depression succumbs the br...</td>\n",
              "      <td>1</td>\n",
              "    </tr>\n",
              "    <tr>\n",
              "      <th>10311</th>\n",
              "      <td>Ketamine Nasal Spray Shows Promise Against Dep...</td>\n",
              "      <td>1</td>\n",
              "    </tr>\n",
              "    <tr>\n",
              "      <th>10312</th>\n",
              "      <td>dont mistake a bad day with depression! everyo...</td>\n",
              "      <td>1</td>\n",
              "    </tr>\n",
              "    <tr>\n",
              "      <th>10313</th>\n",
              "      <td>0</td>\n",
              "      <td>1</td>\n",
              "    </tr>\n",
              "  </tbody>\n",
              "</table>\n",
              "<p>10314 rows × 2 columns</p>\n",
              "</div>"
            ],
            "text/plain": [
              "                                                  tweets  sentiment\n",
              "0      just had a real good moment. i missssssssss hi...          0\n",
              "1             is reading manga  http://plurk.com/p/mzp1e          0\n",
              "2      @comeagainjen http://twitpic.com/2y2lx - http:...          0\n",
              "3      @lapcat Need to send 'em to my accountant tomo...          0\n",
              "4          ADD ME ON MYSPACE!!!  myspace.com/LookThunder          0\n",
              "...                                                  ...        ...\n",
              "10309  No Depression by G Herbo is my mood from now o...          1\n",
              "10310  What do you do when depression succumbs the br...          1\n",
              "10311  Ketamine Nasal Spray Shows Promise Against Dep...          1\n",
              "10312  dont mistake a bad day with depression! everyo...          1\n",
              "10313                                                  0          1\n",
              "\n",
              "[10314 rows x 2 columns]"
            ]
          },
          "metadata": {},
          "execution_count": 3
        }
      ]
    },
    {
      "cell_type": "markdown",
      "metadata": {
        "id": "1Prb7NIM00CZ"
      },
      "source": [
        "## Understanding Data\n",
        "---\n",
        "\n",
        "Randomize the data and see what are the labels along with data in CSV"
      ]
    },
    {
      "cell_type": "code",
      "metadata": {
        "colab": {
          "base_uri": "https://localhost:8080/",
          "height": 467
        },
        "id": "gAT9svnKrMI9",
        "outputId": "9e750402-0476-4d17-83d1-740b58df8edb"
      },
      "source": [
        "data = data.sample(frac = 1., random_state = 14).reset_index(drop = True)\n",
        "\n",
        "print(data['sentiment'].value_counts(0))\n",
        "data"
      ],
      "execution_count": null,
      "outputs": [
        {
          "output_type": "stream",
          "name": "stdout",
          "text": [
            "0    8000\n",
            "1    2314\n",
            "Name: sentiment, dtype: int64\n"
          ]
        },
        {
          "output_type": "execute_result",
          "data": {
            "text/html": [
              "<div>\n",
              "<style scoped>\n",
              "    .dataframe tbody tr th:only-of-type {\n",
              "        vertical-align: middle;\n",
              "    }\n",
              "\n",
              "    .dataframe tbody tr th {\n",
              "        vertical-align: top;\n",
              "    }\n",
              "\n",
              "    .dataframe thead th {\n",
              "        text-align: right;\n",
              "    }\n",
              "</style>\n",
              "<table border=\"1\" class=\"dataframe\">\n",
              "  <thead>\n",
              "    <tr style=\"text-align: right;\">\n",
              "      <th></th>\n",
              "      <th>tweets</th>\n",
              "      <th>sentiment</th>\n",
              "    </tr>\n",
              "  </thead>\n",
              "  <tbody>\n",
              "    <tr>\n",
              "      <th>0</th>\n",
              "      <td>@1WineDude That's a really cool giveaway!</td>\n",
              "      <td>0</td>\n",
              "    </tr>\n",
              "    <tr>\n",
              "      <th>1</th>\n",
              "      <td>Need a good web series? Check out GIANTS on Yo...</td>\n",
              "      <td>1</td>\n",
              "    </tr>\n",
              "    <tr>\n",
              "      <th>2</th>\n",
              "      <td>Procastinated by doing up a new playlist for T...</td>\n",
              "      <td>0</td>\n",
              "    </tr>\n",
              "    <tr>\n",
              "      <th>3</th>\n",
              "      <td>@ZeenaBoBeena eeeek!!!! Good luck, Zeena!!! Yo...</td>\n",
              "      <td>0</td>\n",
              "    </tr>\n",
              "    <tr>\n",
              "      <th>4</th>\n",
              "      <td>@ChynaDoll74 Good morning to you too</td>\n",
              "      <td>0</td>\n",
              "    </tr>\n",
              "    <tr>\n",
              "      <th>...</th>\n",
              "      <td>...</td>\n",
              "      <td>...</td>\n",
              "    </tr>\n",
              "    <tr>\n",
              "      <th>10309</th>\n",
              "      <td>Summer session starts today  Why am I smiling.</td>\n",
              "      <td>0</td>\n",
              "    </tr>\n",
              "    <tr>\n",
              "      <th>10310</th>\n",
              "      <td>@Desireeeeee really me to.!</td>\n",
              "      <td>0</td>\n",
              "    </tr>\n",
              "    <tr>\n",
              "      <th>10311</th>\n",
              "      <td>@Jason_Pollock I think they heard you.</td>\n",
              "      <td>0</td>\n",
              "    </tr>\n",
              "    <tr>\n",
              "      <th>10312</th>\n",
              "      <td>@OliviaMaynard13 You're most welcome. I don't ...</td>\n",
              "      <td>1</td>\n",
              "    </tr>\n",
              "    <tr>\n",
              "      <th>10313</th>\n",
              "      <td>Lakers is the best team of the west conference</td>\n",
              "      <td>0</td>\n",
              "    </tr>\n",
              "  </tbody>\n",
              "</table>\n",
              "<p>10314 rows × 2 columns</p>\n",
              "</div>"
            ],
            "text/plain": [
              "                                                  tweets  sentiment\n",
              "0             @1WineDude That's a really cool giveaway!           0\n",
              "1      Need a good web series? Check out GIANTS on Yo...          1\n",
              "2      Procastinated by doing up a new playlist for T...          0\n",
              "3      @ZeenaBoBeena eeeek!!!! Good luck, Zeena!!! Yo...          0\n",
              "4                  @ChynaDoll74 Good morning to you too           0\n",
              "...                                                  ...        ...\n",
              "10309     Summer session starts today  Why am I smiling.          0\n",
              "10310                       @Desireeeeee really me to.!           0\n",
              "10311            @Jason_Pollock I think they heard you.           0\n",
              "10312  @OliviaMaynard13 You're most welcome. I don't ...          1\n",
              "10313    Lakers is the best team of the west conference           0\n",
              "\n",
              "[10314 rows x 2 columns]"
            ]
          },
          "metadata": {},
          "execution_count": 4
        }
      ]
    },
    {
      "cell_type": "markdown",
      "metadata": {
        "id": "z2h8tQQq1Igx"
      },
      "source": [
        "## Dividing Dataset\n",
        "---\n",
        "Dividing dataset into 6:2:2 ratio as Training:Validation:Testing.\n",
        "\n",
        "Also, *EPOCH* variable is declared for controlling how many epochs for training.\n",
        "\n",
        "After that, observe the data in Train, Val and Test splits.\n",
        "\n",
        "ltimatey, convert the data into NumPy array for later usage."
      ]
    },
    {
      "cell_type": "code",
      "metadata": {
        "id": "vXk1PKKmPuNI"
      },
      "source": [
        "EPOCH = 10\n",
        "\n",
        "split_val = int(0.2 * data.shape[0])\n",
        "\n",
        "dataTest = data.iloc[-split_val :]\n",
        "dataVal = data.iloc[- 2 * split_val : -split_val]\n",
        "dataTrain = data.iloc[: - 2 * split_val]"
      ],
      "execution_count": null,
      "outputs": []
    },
    {
      "cell_type": "code",
      "metadata": {
        "colab": {
          "base_uri": "https://localhost:8080/",
          "height": 467
        },
        "id": "aMhe-A-lr4fH",
        "outputId": "0ecd6f52-4306-4d33-8d48-cb2141be08a7"
      },
      "source": [
        "print(dataTrain['sentiment'].value_counts())\n",
        "\n",
        "dataTrain"
      ],
      "execution_count": null,
      "outputs": [
        {
          "output_type": "stream",
          "name": "stdout",
          "text": [
            "0    4784\n",
            "1    1406\n",
            "Name: sentiment, dtype: int64\n"
          ]
        },
        {
          "output_type": "execute_result",
          "data": {
            "text/html": [
              "<div>\n",
              "<style scoped>\n",
              "    .dataframe tbody tr th:only-of-type {\n",
              "        vertical-align: middle;\n",
              "    }\n",
              "\n",
              "    .dataframe tbody tr th {\n",
              "        vertical-align: top;\n",
              "    }\n",
              "\n",
              "    .dataframe thead th {\n",
              "        text-align: right;\n",
              "    }\n",
              "</style>\n",
              "<table border=\"1\" class=\"dataframe\">\n",
              "  <thead>\n",
              "    <tr style=\"text-align: right;\">\n",
              "      <th></th>\n",
              "      <th>tweets</th>\n",
              "      <th>sentiment</th>\n",
              "    </tr>\n",
              "  </thead>\n",
              "  <tbody>\n",
              "    <tr>\n",
              "      <th>0</th>\n",
              "      <td>@1WineDude That's a really cool giveaway!</td>\n",
              "      <td>0</td>\n",
              "    </tr>\n",
              "    <tr>\n",
              "      <th>1</th>\n",
              "      <td>Need a good web series? Check out GIANTS on Yo...</td>\n",
              "      <td>1</td>\n",
              "    </tr>\n",
              "    <tr>\n",
              "      <th>2</th>\n",
              "      <td>Procastinated by doing up a new playlist for T...</td>\n",
              "      <td>0</td>\n",
              "    </tr>\n",
              "    <tr>\n",
              "      <th>3</th>\n",
              "      <td>@ZeenaBoBeena eeeek!!!! Good luck, Zeena!!! Yo...</td>\n",
              "      <td>0</td>\n",
              "    </tr>\n",
              "    <tr>\n",
              "      <th>4</th>\n",
              "      <td>@ChynaDoll74 Good morning to you too</td>\n",
              "      <td>0</td>\n",
              "    </tr>\n",
              "    <tr>\n",
              "      <th>...</th>\n",
              "      <td>...</td>\n",
              "      <td>...</td>\n",
              "    </tr>\n",
              "    <tr>\n",
              "      <th>6185</th>\n",
              "      <td>free draw, lit easily, puffing away</td>\n",
              "      <td>0</td>\n",
              "    </tr>\n",
              "    <tr>\n",
              "      <th>6186</th>\n",
              "      <td>Depression is coming i feel it my veins just w...</td>\n",
              "      <td>1</td>\n",
              "    </tr>\n",
              "    <tr>\n",
              "      <th>6187</th>\n",
              "      <td>at gator joe's with heather and then movies to...</td>\n",
              "      <td>0</td>\n",
              "    </tr>\n",
              "    <tr>\n",
              "      <th>6188</th>\n",
              "      <td>Ughhh so over nightmares - So Instead of sleep...</td>\n",
              "      <td>0</td>\n",
              "    </tr>\n",
              "    <tr>\n",
              "      <th>6189</th>\n",
              "      <td>@pinkelephantpun Books on tape or cd makes the...</td>\n",
              "      <td>0</td>\n",
              "    </tr>\n",
              "  </tbody>\n",
              "</table>\n",
              "<p>6190 rows × 2 columns</p>\n",
              "</div>"
            ],
            "text/plain": [
              "                                                 tweets  sentiment\n",
              "0            @1WineDude That's a really cool giveaway!           0\n",
              "1     Need a good web series? Check out GIANTS on Yo...          1\n",
              "2     Procastinated by doing up a new playlist for T...          0\n",
              "3     @ZeenaBoBeena eeeek!!!! Good luck, Zeena!!! Yo...          0\n",
              "4                 @ChynaDoll74 Good morning to you too           0\n",
              "...                                                 ...        ...\n",
              "6185               free draw, lit easily, puffing away           0\n",
              "6186  Depression is coming i feel it my veins just w...          1\n",
              "6187  at gator joe's with heather and then movies to...          0\n",
              "6188  Ughhh so over nightmares - So Instead of sleep...          0\n",
              "6189  @pinkelephantpun Books on tape or cd makes the...          0\n",
              "\n",
              "[6190 rows x 2 columns]"
            ]
          },
          "metadata": {},
          "execution_count": 6
        }
      ]
    },
    {
      "cell_type": "code",
      "metadata": {
        "colab": {
          "base_uri": "https://localhost:8080/",
          "height": 467
        },
        "id": "l2tTMKOsr4X0",
        "outputId": "97ad09fb-26d6-4e4c-dde9-ea330f23df3e"
      },
      "source": [
        "print(dataVal['sentiment'].value_counts())\n",
        "\n",
        "dataVal"
      ],
      "execution_count": null,
      "outputs": [
        {
          "output_type": "stream",
          "name": "stdout",
          "text": [
            "0    1606\n",
            "1     456\n",
            "Name: sentiment, dtype: int64\n"
          ]
        },
        {
          "output_type": "execute_result",
          "data": {
            "text/html": [
              "<div>\n",
              "<style scoped>\n",
              "    .dataframe tbody tr th:only-of-type {\n",
              "        vertical-align: middle;\n",
              "    }\n",
              "\n",
              "    .dataframe tbody tr th {\n",
              "        vertical-align: top;\n",
              "    }\n",
              "\n",
              "    .dataframe thead th {\n",
              "        text-align: right;\n",
              "    }\n",
              "</style>\n",
              "<table border=\"1\" class=\"dataframe\">\n",
              "  <thead>\n",
              "    <tr style=\"text-align: right;\">\n",
              "      <th></th>\n",
              "      <th>tweets</th>\n",
              "      <th>sentiment</th>\n",
              "    </tr>\n",
              "  </thead>\n",
              "  <tbody>\n",
              "    <tr>\n",
              "      <th>6190</th>\n",
              "      <td>@pilucha ok, no more drinking away of the sorr...</td>\n",
              "      <td>0</td>\n",
              "    </tr>\n",
              "    <tr>\n",
              "      <th>6191</th>\n",
              "      <td>Earl's wearing a tie</td>\n",
              "      <td>0</td>\n",
              "    </tr>\n",
              "    <tr>\n",
              "      <th>6192</th>\n",
              "      <td>Loving @gilesbennet teaching style - like Dr S...</td>\n",
              "      <td>0</td>\n",
              "    </tr>\n",
              "    <tr>\n",
              "      <th>6193</th>\n",
              "      <td>hangin with ledd nd court.</td>\n",
              "      <td>0</td>\n",
              "    </tr>\n",
              "    <tr>\n",
              "      <th>6194</th>\n",
              "      <td>under 24 hours left to vote for @protagonize a...</td>\n",
              "      <td>0</td>\n",
              "    </tr>\n",
              "    <tr>\n",
              "      <th>...</th>\n",
              "      <td>...</td>\n",
              "      <td>...</td>\n",
              "    </tr>\n",
              "    <tr>\n",
              "      <th>8247</th>\n",
              "      <td>Look at the cute hat I got today...I look scar...</td>\n",
              "      <td>0</td>\n",
              "    </tr>\n",
              "    <tr>\n",
              "      <th>8248</th>\n",
              "      <td>@firesty hey ya )) like ur new pic  i have one...</td>\n",
              "      <td>0</td>\n",
              "    </tr>\n",
              "    <tr>\n",
              "      <th>8249</th>\n",
              "      <td>@Styla73 Thank you.</td>\n",
              "      <td>0</td>\n",
              "    </tr>\n",
              "    <tr>\n",
              "      <th>8250</th>\n",
              "      <td>@stephjonesmusic http://twitpic.com/6bclz - ah...</td>\n",
              "      <td>0</td>\n",
              "    </tr>\n",
              "    <tr>\n",
              "      <th>8251</th>\n",
              "      <td>RT @FamAcupuncture: Treating Depression With F...</td>\n",
              "      <td>1</td>\n",
              "    </tr>\n",
              "  </tbody>\n",
              "</table>\n",
              "<p>2062 rows × 2 columns</p>\n",
              "</div>"
            ],
            "text/plain": [
              "                                                 tweets  sentiment\n",
              "6190  @pilucha ok, no more drinking away of the sorr...          0\n",
              "6191                              Earl's wearing a tie           0\n",
              "6192  Loving @gilesbennet teaching style - like Dr S...          0\n",
              "6193                        hangin with ledd nd court.           0\n",
              "6194  under 24 hours left to vote for @protagonize a...          0\n",
              "...                                                 ...        ...\n",
              "8247  Look at the cute hat I got today...I look scar...          0\n",
              "8248  @firesty hey ya )) like ur new pic  i have one...          0\n",
              "8249                               @Styla73 Thank you.           0\n",
              "8250  @stephjonesmusic http://twitpic.com/6bclz - ah...          0\n",
              "8251  RT @FamAcupuncture: Treating Depression With F...          1\n",
              "\n",
              "[2062 rows x 2 columns]"
            ]
          },
          "metadata": {},
          "execution_count": 7
        }
      ]
    },
    {
      "cell_type": "code",
      "metadata": {
        "colab": {
          "base_uri": "https://localhost:8080/",
          "height": 467
        },
        "id": "GdtDG4BLr4Hc",
        "outputId": "fd4e2e80-78fa-4326-c569-2b95c2d0c369"
      },
      "source": [
        "print(dataTest['sentiment'].value_counts())\n",
        "\n",
        "dataTest"
      ],
      "execution_count": null,
      "outputs": [
        {
          "output_type": "stream",
          "name": "stdout",
          "text": [
            "0    1610\n",
            "1     452\n",
            "Name: sentiment, dtype: int64\n"
          ]
        },
        {
          "output_type": "execute_result",
          "data": {
            "text/html": [
              "<div>\n",
              "<style scoped>\n",
              "    .dataframe tbody tr th:only-of-type {\n",
              "        vertical-align: middle;\n",
              "    }\n",
              "\n",
              "    .dataframe tbody tr th {\n",
              "        vertical-align: top;\n",
              "    }\n",
              "\n",
              "    .dataframe thead th {\n",
              "        text-align: right;\n",
              "    }\n",
              "</style>\n",
              "<table border=\"1\" class=\"dataframe\">\n",
              "  <thead>\n",
              "    <tr style=\"text-align: right;\">\n",
              "      <th></th>\n",
              "      <th>tweets</th>\n",
              "      <th>sentiment</th>\n",
              "    </tr>\n",
              "  </thead>\n",
              "  <tbody>\n",
              "    <tr>\n",
              "      <th>8252</th>\n",
              "      <td>One of my mini poems. #helenswriting#mentalhea...</td>\n",
              "      <td>1</td>\n",
              "    </tr>\n",
              "    <tr>\n",
              "      <th>8253</th>\n",
              "      <td>@y2kprawn you went to college here? Didn't kno...</td>\n",
              "      <td>0</td>\n",
              "    </tr>\n",
              "    <tr>\n",
              "      <th>8254</th>\n",
              "      <td>The Young Life Podcast #1 - Depression 101:  h...</td>\n",
              "      <td>1</td>\n",
              "    </tr>\n",
              "    <tr>\n",
              "      <th>8255</th>\n",
              "      <td>'s hair is so soft today.</td>\n",
              "      <td>0</td>\n",
              "    </tr>\n",
              "    <tr>\n",
              "      <th>8256</th>\n",
              "      <td>At the point where I'm legitimately pissed whe...</td>\n",
              "      <td>1</td>\n",
              "    </tr>\n",
              "    <tr>\n",
              "      <th>...</th>\n",
              "      <td>...</td>\n",
              "      <td>...</td>\n",
              "    </tr>\n",
              "    <tr>\n",
              "      <th>10309</th>\n",
              "      <td>Summer session starts today  Why am I smiling.</td>\n",
              "      <td>0</td>\n",
              "    </tr>\n",
              "    <tr>\n",
              "      <th>10310</th>\n",
              "      <td>@Desireeeeee really me to.!</td>\n",
              "      <td>0</td>\n",
              "    </tr>\n",
              "    <tr>\n",
              "      <th>10311</th>\n",
              "      <td>@Jason_Pollock I think they heard you.</td>\n",
              "      <td>0</td>\n",
              "    </tr>\n",
              "    <tr>\n",
              "      <th>10312</th>\n",
              "      <td>@OliviaMaynard13 You're most welcome. I don't ...</td>\n",
              "      <td>1</td>\n",
              "    </tr>\n",
              "    <tr>\n",
              "      <th>10313</th>\n",
              "      <td>Lakers is the best team of the west conference</td>\n",
              "      <td>0</td>\n",
              "    </tr>\n",
              "  </tbody>\n",
              "</table>\n",
              "<p>2062 rows × 2 columns</p>\n",
              "</div>"
            ],
            "text/plain": [
              "                                                  tweets  sentiment\n",
              "8252   One of my mini poems. #helenswriting#mentalhea...          1\n",
              "8253   @y2kprawn you went to college here? Didn't kno...          0\n",
              "8254   The Young Life Podcast #1 - Depression 101:  h...          1\n",
              "8255                          's hair is so soft today.           0\n",
              "8256   At the point where I'm legitimately pissed whe...          1\n",
              "...                                                  ...        ...\n",
              "10309     Summer session starts today  Why am I smiling.          0\n",
              "10310                       @Desireeeeee really me to.!           0\n",
              "10311            @Jason_Pollock I think they heard you.           0\n",
              "10312  @OliviaMaynard13 You're most welcome. I don't ...          1\n",
              "10313    Lakers is the best team of the west conference           0\n",
              "\n",
              "[2062 rows x 2 columns]"
            ]
          },
          "metadata": {},
          "execution_count": 8
        }
      ]
    },
    {
      "cell_type": "code",
      "metadata": {
        "id": "q9B1E-0HMG6C"
      },
      "source": [
        "trainX = np.array(dataTrain.iloc[:, 0])\n",
        "trainY = np.array(dataTrain.iloc[:, 1])\n",
        "\n",
        "valX = np.array(dataVal.iloc[:, 0])\n",
        "valY = np.array(dataVal.iloc[:, 1])\n",
        "\n",
        "testX = np.array(dataTest.iloc[:, 0])\n",
        "testY = np.array(dataTest.iloc[:, 1])\n",
        "\n",
        "# # To check the outcome\n",
        "# print(trainX)\n",
        "# print(trainY)\n",
        "# print(valX)\n",
        "# print(valY)\n",
        "# print(testX)\n",
        "# print(testY)\n",
        "\n",
        "# print(trainX.shape)\n",
        "# print(trainY.shape)\n",
        "# print(valX.shape)\n",
        "# print(valY.shape)\n",
        "# print(testX.shape)\n",
        "# print(testY.shape)"
      ],
      "execution_count": null,
      "outputs": []
    },
    {
      "cell_type": "markdown",
      "metadata": {
        "id": "tjQoeNp413B4"
      },
      "source": [
        "## Tokenizing Data\n",
        "---\n",
        "\n",
        "Processing the data. Use train data to fit on the text. Later use it to construct sequences for all of the train, val, test quality."
      ]
    },
    {
      "cell_type": "code",
      "metadata": {
        "id": "Oqe-uYGSwRwS"
      },
      "source": [
        "top_k = 50000\n",
        "tokenizer = tf.keras.preprocessing.text.Tokenizer(num_words = top_k,\n",
        "                                                  oov_token = \"<unk>\",\n",
        "                                                  filters = '!\"#$%&()*+.,-/:;=?@[\\]^_`{|}~')\n",
        "tokenizer.fit_on_texts(trainX)\n",
        "\n",
        "tokenizer.word_index['<pad>'] = 0\n",
        "tokenizer.index_word[0] = '<pad>'\n",
        "\n",
        "train_seqs = tokenizer.texts_to_sequences(trainX)\n",
        "val_seqs = tokenizer.texts_to_sequences(valX)\n",
        "test_seqs = tokenizer.texts_to_sequences(testX)\n",
        "\n",
        "train_seqs = tf.keras.preprocessing.sequence.pad_sequences(train_seqs, padding = 'pre')\n",
        "val_seqs = tf.keras.preprocessing.sequence.pad_sequences(val_seqs, padding = 'pre')\n",
        "test_seqs = tf.keras.preprocessing.sequence.pad_sequences(test_seqs, padding = 'pre')"
      ],
      "execution_count": null,
      "outputs": []
    },
    {
      "cell_type": "code",
      "metadata": {
        "id": "KO367UZUFaXS"
      },
      "source": [
        "# # To check the outcome\n",
        "# print(trainX)\n",
        "# print(valX)\n",
        "# print(testX)\n",
        "# print('=====')\n",
        "# print(train_seqs)\n",
        "# print(val_seqs)\n",
        "# print(test_seqs)\n",
        "# print('=====')\n",
        "# print(train_seqs.shape)\n",
        "# print(val_seqs.shape)\n",
        "# print(test_seqs.shape)"
      ],
      "execution_count": null,
      "outputs": []
    },
    {
      "cell_type": "markdown",
      "metadata": {
        "id": "lQozFOh92OQe"
      },
      "source": [
        "## Develop Model\n",
        "---\n",
        "Develop the model and print it.\n",
        "\n",
        "Train the model and observe the values."
      ]
    },
    {
      "cell_type": "code",
      "metadata": {
        "colab": {
          "base_uri": "https://localhost:8080/",
          "height": 1000
        },
        "id": "p1alVk9SFqnX",
        "outputId": "e1164e66-bdcc-4073-8fab-9718d6df84ce"
      },
      "source": [
        "model = Sequential()\n",
        "model.add(layers.Embedding(len(tokenizer.word_index), 128))\n",
        "model.add(layers.Bidirectional(layers.LSTM(256, return_sequences = True, dropout = 0.2)))\n",
        "model.add(layers.Bidirectional(layers.LSTM(512, return_sequences = True, dropout = 0.2)))\n",
        "model.add(layers.Bidirectional(layers.LSTM(64, return_sequences = True, dropout = 0.2)))\n",
        "model.add(layers.Bidirectional(layers.LSTM(8, dropout = 0.2)))\n",
        "model.add(layers.Dense(1, activation = 'sigmoid'))\n",
        "\n",
        "model.compile(loss = 'binary_crossentropy', optimizer = 'adam', metrics = ['accuracy'])\n",
        "\n",
        "model.summary()\n",
        "plot_model(model, to_file = 'model_plot.png', show_shapes = True, show_layer_names = True)"
      ],
      "execution_count": null,
      "outputs": [
        {
          "output_type": "stream",
          "name": "stdout",
          "text": [
            "Model: \"sequential\"\n",
            "_________________________________________________________________\n",
            "Layer (type)                 Output Shape              Param #   \n",
            "=================================================================\n",
            "embedding (Embedding)        (None, None, 128)         2072576   \n",
            "_________________________________________________________________\n",
            "bidirectional (Bidirectional (None, None, 512)         788480    \n",
            "_________________________________________________________________\n",
            "bidirectional_1 (Bidirection (None, None, 1024)        4198400   \n",
            "_________________________________________________________________\n",
            "bidirectional_2 (Bidirection (None, None, 128)         557568    \n",
            "_________________________________________________________________\n",
            "bidirectional_3 (Bidirection (None, 16)                8768      \n",
            "_________________________________________________________________\n",
            "dense (Dense)                (None, 1)                 17        \n",
            "=================================================================\n",
            "Total params: 7,625,809\n",
            "Trainable params: 7,625,809\n",
            "Non-trainable params: 0\n",
            "_________________________________________________________________\n"
          ]
        },
        {
          "output_type": "execute_result",
          "data": {
            "image/png": "[encoded data removed]",
            "text/plain": [
              "<IPython.core.display.Image object>"
            ]
          },
          "metadata": {},
          "execution_count": 12
        }
      ]
    },
    {
      "cell_type": "code",
      "metadata": {
        "colab": {
          "base_uri": "https://localhost:8080/",
          "height": 1000
        },
        "id": "gDJ3y2IXKMXi",
        "outputId": "3a10d4a1-8b91-4892-e0ff-ed0be50d8547"
      },
      "source": [
        "history = model.fit(train_seqs, trainY, epochs = EPOCH, validation_data = (val_seqs, valY), verbose = 1)\n",
        "\n",
        "def plot_graphs(history, string):\n",
        "  plt.plot(history.history[string])\n",
        "  plt.plot(history.history['val_'+string])\n",
        "  plt.xlabel(\"Epochs\")\n",
        "  plt.ylabel(string)\n",
        "  plt.legend([string, 'val_'+string])\n",
        "  plt.show()\n",
        "\n",
        "plot_graphs(history, 'accuracy')\n",
        "plot_graphs(history, 'loss')\n",
        "\n",
        "print('\\nEpoch No.  Train Accuracy  Train Loss     Val Accuracy    Val Loss')\n",
        "for i in range(EPOCH):\n",
        "  print('{:8d} {:10f} \\t {:10f} \\t {:10f} \\t {:10f}'.format(i + 1, history.history['accuracy'][i], history.history['loss'][i], history.history['val_accuracy'][i], history.history['val_loss'][i]))"
      ],
      "execution_count": null,
      "outputs": [
        {
          "output_type": "stream",
          "name": "stdout",
          "text": [
            "Epoch 1/10\n",
            "194/194 [==============================] - 65s 240ms/step - loss: 0.4562 - accuracy: 0.8233 - val_loss: 0.5299 - val_accuracy: 0.7789\n",
            "Epoch 2/10\n",
            "194/194 [==============================] - 43s 221ms/step - loss: 0.5372 - accuracy: 0.7729 - val_loss: 0.5290 - val_accuracy: 0.7789\n",
            "Epoch 3/10\n",
            "194/194 [==============================] - 43s 223ms/step - loss: 0.5369 - accuracy: 0.7729 - val_loss: 0.5288 - val_accuracy: 0.7789\n",
            "Epoch 4/10\n",
            "194/194 [==============================] - 43s 223ms/step - loss: 0.5360 - accuracy: 0.7729 - val_loss: 0.5292 - val_accuracy: 0.7789\n",
            "Epoch 5/10\n",
            "194/194 [==============================] - 43s 223ms/step - loss: 0.5363 - accuracy: 0.7729 - val_loss: 0.5285 - val_accuracy: 0.7789\n",
            "Epoch 6/10\n",
            "194/194 [==============================] - 43s 223ms/step - loss: 0.5374 - accuracy: 0.7729 - val_loss: 0.5303 - val_accuracy: 0.7789\n",
            "Epoch 7/10\n",
            "194/194 [==============================] - 43s 223ms/step - loss: 0.5361 - accuracy: 0.7729 - val_loss: 0.5287 - val_accuracy: 0.7789\n",
            "Epoch 8/10\n",
            "194/194 [==============================] - 43s 223ms/step - loss: 0.5367 - accuracy: 0.7729 - val_loss: 0.5287 - val_accuracy: 0.7789\n",
            "Epoch 9/10\n",
            "194/194 [==============================] - 43s 223ms/step - loss: 0.5281 - accuracy: 0.7729 - val_loss: 0.3621 - val_accuracy: 0.7789\n",
            "Epoch 10/10\n",
            "194/194 [==============================] - 43s 223ms/step - loss: 0.1594 - accuracy: 0.9481 - val_loss: 0.1947 - val_accuracy: 0.9200\n"
          ]
        },
        {
          "output_type": "display_data",
          "data": {
            "image/png": "[encoded data removed]",
            "text/plain": [
              "<Figure size 432x288 with 1 Axes>"
            ]
          },
          "metadata": {
            "needs_background": "light"
          }
        },
        {
          "output_type": "display_data",
          "data": {
            "image/png": "[encoded data removed]",
            "text/plain": [
              "<Figure size 432x288 with 1 Axes>"
            ]
          },
          "metadata": {
            "needs_background": "light"
          }
        },
        {
          "output_type": "stream",
          "name": "stdout",
          "text": [
            "\n",
            "Epoch No.  Train Accuracy  Train Loss     Val Accuracy    Val Loss\n",
            "       1   0.823263 \t   0.456203 \t   0.778856 \t   0.529903\n",
            "       2   0.772859 \t   0.537191 \t   0.778856 \t   0.529032\n",
            "       3   0.772859 \t   0.536929 \t   0.778856 \t   0.528756\n",
            "       4   0.772859 \t   0.536042 \t   0.778856 \t   0.529238\n",
            "       5   0.772859 \t   0.536272 \t   0.778856 \t   0.528491\n",
            "       6   0.772859 \t   0.537390 \t   0.778856 \t   0.530258\n",
            "       7   0.772859 \t   0.536059 \t   0.778856 \t   0.528687\n",
            "       8   0.772859 \t   0.536682 \t   0.778856 \t   0.528742\n",
            "       9   0.772859 \t   0.528127 \t   0.778856 \t   0.362136\n",
            "      10   0.948142 \t   0.159378 \t   0.919981 \t   0.194712\n"
          ]
        }
      ]
    },
    {
      "cell_type": "markdown",
      "metadata": {
        "id": "jSPQirEq2nKb"
      },
      "source": [
        "## Find Performance\n",
        "---\n",
        "Use the developed model to see how it performs in al the datasets.\n",
        "\n",
        "Separate performance was calculated for all the Train, Val and Test data."
      ]
    },
    {
      "cell_type": "markdown",
      "metadata": {
        "id": "TyFEiBlM20nr"
      },
      "source": [
        "### Train Data Performance"
      ]
    },
    {
      "cell_type": "code",
      "metadata": {
        "colab": {
          "base_uri": "https://localhost:8080/",
          "height": 399
        },
        "id": "IlTlpLrtgfMt",
        "outputId": "6e7b9a29-db07-4a21-a7f8-e0c3c9ee4a67"
      },
      "source": [
        "y_pred = model.predict(train_seqs)\n",
        "\n",
        "y_pred = np.where(y_pred > 0.5, 1, 0)\n",
        "y_pred = np.reshape(y_pred, (y_pred.shape[0]))\n",
        "\n",
        "loss, accuracy = model.evaluate(train_seqs, trainY, verbose = 1)\n",
        "print('Train Loss:', loss)\n",
        "print('Train Accuracy:', accuracy, '(Model Metric)')\n",
        "print('Train Accuracy:', accuracy_score(trainY, y_pred), '(sklearn Metric)')\n",
        "print('Train Precision:', precision_score(trainY, y_pred))\n",
        "print('Train Recall:', recall_score(trainY, y_pred))\n",
        "print('Train F1-score:', f1_score(trainY, y_pred))\n",
        "\n",
        "sns.heatmap(confusion_matrix(trainY, y_pred), annot = True, fmt = 'g')"
      ],
      "execution_count": null,
      "outputs": [
        {
          "output_type": "stream",
          "name": "stdout",
          "text": [
            "194/194 [==============================] - 21s 92ms/step - loss: 0.1121 - accuracy: 0.9565\n",
            "Train Loss: 0.11207843571901321\n",
            "Train Accuracy: 0.9565427899360657 (Model Metric)\n",
            "Train Accuracy: 0.9565428109854605 (sklearn Metric)\n",
            "Train Precision: 0.932319391634981\n",
            "Train Recall: 0.871977240398293\n",
            "Train F1-score: 0.9011392870268284\n"
          ]
        },
        {
          "output_type": "execute_result",
          "data": {
            "text/plain": [
              "<matplotlib.axes._subplots.AxesSubplot at 0x7ff9340989d0>"
            ]
          },
          "metadata": {},
          "execution_count": 14
        },
        {
          "output_type": "display_data",
          "data": {
            "image/png": "[encoded data removed]",
            "text/plain": [
              "<Figure size 432x288 with 2 Axes>"
            ]
          },
          "metadata": {
            "needs_background": "light"
          }
        }
      ]
    },
    {
      "cell_type": "markdown",
      "metadata": {
        "id": "2iySVDHT25d6"
      },
      "source": [
        "### Val Data Performance"
      ]
    },
    {
      "cell_type": "code",
      "metadata": {
        "colab": {
          "base_uri": "https://localhost:8080/",
          "height": 399
        },
        "id": "_D7KdFvHhHOS",
        "outputId": "abde9bba-fcdd-461b-c7c1-9769bd9fa323"
      },
      "source": [
        "y_pred = model.predict(val_seqs)\n",
        "\n",
        "y_pred = np.where(y_pred > 0.5, 1, 0)\n",
        "y_pred = np.reshape(y_pred, (y_pred.shape[0]))\n",
        "\n",
        "loss, accuracy = model.evaluate(val_seqs, valY, verbose = 1)\n",
        "print('Validation Loss:', loss)\n",
        "print('Validation Accuracy:', accuracy, '(Model Metric)')\n",
        "print('Validation Accuracy:', accuracy_score(valY, y_pred), '(sklearn Metric)')\n",
        "print('Validation Precision:', precision_score(valY, y_pred))\n",
        "print('Validation Recall:', recall_score(valY, y_pred))\n",
        "print('Validation F1-score:', f1_score(valY, y_pred))\n",
        "\n",
        "sns.heatmap(confusion_matrix(valY, y_pred), annot = True, fmt = 'g')"
      ],
      "execution_count": null,
      "outputs": [
        {
          "output_type": "stream",
          "name": "stdout",
          "text": [
            "65/65 [==============================] - 5s 70ms/step - loss: 0.1947 - accuracy: 0.9200\n",
            "Validation Loss: 0.19471202790737152\n",
            "Validation Accuracy: 0.9199805855751038 (Model Metric)\n",
            "Validation Accuracy: 0.9199806013579049 (sklearn Metric)\n",
            "Validation Precision: 0.8269662921348314\n",
            "Validation Recall: 0.8070175438596491\n",
            "Validation F1-score: 0.8168701442841287\n"
          ]
        },
        {
          "output_type": "execute_result",
          "data": {
            "text/plain": [
              "<matplotlib.axes._subplots.AxesSubplot at 0x7ff90c7d4c10>"
            ]
          },
          "metadata": {},
          "execution_count": 15
        },
        {
          "output_type": "display_data",
          "data": {
            "image/png": "[encoded data removed]",
            "text/plain": [
              "<Figure size 432x288 with 2 Axes>"
            ]
          },
          "metadata": {
            "needs_background": "light"
          }
        }
      ]
    },
    {
      "cell_type": "markdown",
      "metadata": {
        "id": "DHudDMkw28oS"
      },
      "source": [
        "### Test Data Performance"
      ]
    },
    {
      "cell_type": "code",
      "metadata": {
        "colab": {
          "base_uri": "https://localhost:8080/",
          "height": 399
        },
        "id": "SWt3knXRMnJ6",
        "outputId": "e4db1677-ab42-45b4-e52d-d91ababc4aec"
      },
      "source": [
        "y_pred = model.predict(test_seqs)\n",
        "\n",
        "y_pred = np.where(y_pred > 0.5, 1, 0)\n",
        "y_pred = np.reshape(y_pred, (y_pred.shape[0]))\n",
        "\n",
        "loss, accuracy = model.evaluate(test_seqs, testY, verbose = 1)\n",
        "print('Test Loss:', loss)\n",
        "print('Test Accuracy:', accuracy, '(Model Metric)')\n",
        "print('Test Accuracy:', accuracy_score(testY, y_pred), '(sklearn Metric)')\n",
        "print('Test Precision:', precision_score(testY, y_pred))\n",
        "print('Test Recall:', recall_score(testY, y_pred))\n",
        "print('Test F1-score:', f1_score(testY, y_pred))\n",
        "\n",
        "sns.heatmap(confusion_matrix(testY, y_pred), annot = True, fmt = 'g')"
      ],
      "execution_count": null,
      "outputs": [
        {
          "output_type": "stream",
          "name": "stdout",
          "text": [
            "65/65 [==============================] - 7s 63ms/step - loss: 0.1818 - accuracy: 0.9205\n",
            "Test Loss: 0.18182244896888733\n",
            "Test Accuracy: 0.9204655885696411 (Model Metric)\n",
            "Test Accuracy: 0.9204655674102813 (sklearn Metric)\n",
            "Test Precision: 0.8582089552238806\n",
            "Test Recall: 0.7632743362831859\n",
            "Test F1-score: 0.8079625292740047\n"
          ]
        },
        {
          "output_type": "execute_result",
          "data": {
            "text/plain": [
              "<matplotlib.axes._subplots.AxesSubplot at 0x7ff9341c7050>"
            ]
          },
          "metadata": {},
          "execution_count": 16
        },
        {
          "output_type": "display_data",
          "data": {
            "image/png": "[encoded data removed]",
            "text/plain": [
              "<Figure size 432x288 with 2 Axes>"
            ]
          },
          "metadata": {
            "needs_background": "light"
          }
        }
      ]
    }
  ]
}